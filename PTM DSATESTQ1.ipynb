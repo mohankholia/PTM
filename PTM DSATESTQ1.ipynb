{
 "cells": [
  {
   "cell_type": "code",
   "execution_count": 4,
   "id": "18789f06-bee9-4149-83d9-44beed532e58",
   "metadata": {},
   "outputs": [
    {
     "name": "stdout",
     "output_type": "stream",
     "text": [
      "[1, 3, 12, 0, 0]\n",
      "[0]\n"
     ]
    }
   ],
   "source": [
    "def moveZeroes(nums):\n",
    "    left = right = 0\n",
    "\n",
    "    while left < len(nums):\n",
    "        if nums[left] != 0:\n",
    "            nums[left], nums[right] = nums[right], nums[left]\n",
    "            right += 1\n",
    "        left += 1\n",
    "\n",
    "    return nums\n",
    "nums = [0, 1, 0, 3, 12]\n",
    "print(moveZeroes(nums))\n",
    "nums=[0]\n",
    "print(moveZeroes(nums))"
   ]
  },
  {
   "cell_type": "code",
   "execution_count": 6,
   "id": "d65cb5c4-f877-47db-9324-972f1c6aef07",
   "metadata": {},
   "outputs": [
    {
     "name": "stdout",
     "output_type": "stream",
     "text": [
      "0\n",
      "2\n",
      "-1\n"
     ]
    }
   ],
   "source": []
  },
  {
   "cell_type": "code",
   "execution_count": null,
   "id": "404b9e7f-3490-495b-bf13-690596261491",
   "metadata": {},
   "outputs": [],
   "source": []
  }
 ],
 "metadata": {
  "kernelspec": {
   "display_name": "Python 3 (ipykernel)",
   "language": "python",
   "name": "python3"
  },
  "language_info": {
   "codemirror_mode": {
    "name": "ipython",
    "version": 3
   },
   "file_extension": ".py",
   "mimetype": "text/x-python",
   "name": "python",
   "nbconvert_exporter": "python",
   "pygments_lexer": "ipython3",
   "version": "3.10.8"
  }
 },
 "nbformat": 4,
 "nbformat_minor": 5
}
